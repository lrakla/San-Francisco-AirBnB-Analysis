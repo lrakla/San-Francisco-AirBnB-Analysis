{
 "cells": [
  {
   "cell_type": "markdown",
   "metadata": {},
   "source": [
    "# San Francisco AirBnB data analysis\n",
    "## 1. Business Understanding\n",
    "This notebook explores the following high level business questions using data from http://insideairbnb.com/get-the-data.html :\n",
    "1) What months are busiest in San Francisco? What are the price variations?\n",
    "This helps us understand the peak months and prices for the same\n",
    "2) What types of rooms are available? What is the price difference according to room type?\n",
    "This helps in understanding the options of housings and the prices for the same.\n",
    "3) Which neighbourhood has most listings? Is price related to the number of listings in that neighbourhood?\n",
    "This helps in understanding the neighborhoods and prices for the same."
   ]
  },
  {
   "cell_type": "markdown",
   "metadata": {},
   "source": [
    "## Data Understanding"
   ]
  },
  {
   "cell_type": "code",
   "execution_count": 26,
   "metadata": {},
   "outputs": [],
   "source": [
    "# Importing the libraries\n",
    "import pandas as pd\n",
    "import matplotlib.pyplot as plt\n",
    "import numpy as np\n",
    "import seaborn as sns\n",
    "import warnings\n",
    "import calendar\n",
    "warnings.filterwarnings(\"ignore\")\n",
    "\n",
    "%matplotlib inline\n"
   ]
  },
  {
   "cell_type": "code",
   "execution_count": 27,
   "metadata": {},
   "outputs": [
    {
     "data": {
      "text/html": [
       "<div>\n",
       "<style scoped>\n",
       "    .dataframe tbody tr th:only-of-type {\n",
       "        vertical-align: middle;\n",
       "    }\n",
       "\n",
       "    .dataframe tbody tr th {\n",
       "        vertical-align: top;\n",
       "    }\n",
       "\n",
       "    .dataframe thead th {\n",
       "        text-align: right;\n",
       "    }\n",
       "</style>\n",
       "<table border=\"1\" class=\"dataframe\">\n",
       "  <thead>\n",
       "    <tr style=\"text-align: right;\">\n",
       "      <th></th>\n",
       "      <th>listing_id</th>\n",
       "      <th>date</th>\n",
       "      <th>available</th>\n",
       "      <th>price</th>\n",
       "      <th>adjusted_price</th>\n",
       "      <th>minimum_nights</th>\n",
       "      <th>maximum_nights</th>\n",
       "    </tr>\n",
       "  </thead>\n",
       "  <tbody>\n",
       "    <tr>\n",
       "      <th>0</th>\n",
       "      <td>958</td>\n",
       "      <td>2019-12-04</td>\n",
       "      <td>f</td>\n",
       "      <td>$135.00</td>\n",
       "      <td>$135.00</td>\n",
       "      <td>1.0</td>\n",
       "      <td>30.0</td>\n",
       "    </tr>\n",
       "    <tr>\n",
       "      <th>1</th>\n",
       "      <td>958</td>\n",
       "      <td>2019-12-05</td>\n",
       "      <td>f</td>\n",
       "      <td>$135.00</td>\n",
       "      <td>$135.00</td>\n",
       "      <td>1.0</td>\n",
       "      <td>30.0</td>\n",
       "    </tr>\n",
       "    <tr>\n",
       "      <th>2</th>\n",
       "      <td>958</td>\n",
       "      <td>2019-12-06</td>\n",
       "      <td>f</td>\n",
       "      <td>$135.00</td>\n",
       "      <td>$135.00</td>\n",
       "      <td>1.0</td>\n",
       "      <td>30.0</td>\n",
       "    </tr>\n",
       "    <tr>\n",
       "      <th>3</th>\n",
       "      <td>958</td>\n",
       "      <td>2019-12-07</td>\n",
       "      <td>f</td>\n",
       "      <td>$135.00</td>\n",
       "      <td>$135.00</td>\n",
       "      <td>1.0</td>\n",
       "      <td>30.0</td>\n",
       "    </tr>\n",
       "    <tr>\n",
       "      <th>4</th>\n",
       "      <td>958</td>\n",
       "      <td>2019-12-08</td>\n",
       "      <td>f</td>\n",
       "      <td>$135.00</td>\n",
       "      <td>$135.00</td>\n",
       "      <td>1.0</td>\n",
       "      <td>30.0</td>\n",
       "    </tr>\n",
       "  </tbody>\n",
       "</table>\n",
       "</div>"
      ],
      "text/plain": [
       "   listing_id       date available    price adjusted_price  minimum_nights  \\\n",
       "0         958 2019-12-04         f  $135.00        $135.00             1.0   \n",
       "1         958 2019-12-05         f  $135.00        $135.00             1.0   \n",
       "2         958 2019-12-06         f  $135.00        $135.00             1.0   \n",
       "3         958 2019-12-07         f  $135.00        $135.00             1.0   \n",
       "4         958 2019-12-08         f  $135.00        $135.00             1.0   \n",
       "\n",
       "   maximum_nights  \n",
       "0            30.0  \n",
       "1            30.0  \n",
       "2            30.0  \n",
       "3            30.0  \n",
       "4            30.0  "
      ]
     },
     "execution_count": 27,
     "metadata": {},
     "output_type": "execute_result"
    }
   ],
   "source": [
    "#Ingest calendar,listing and review data\n",
    "sf_calendar = pd.read_csv('calendar.csv',parse_dates=['date'])\n",
    "sf_listings = pd.read_csv('listings.csv')\n",
    "sf_reviews = pd.read_csv('reviews.csv',parse_dates=['date'])\n",
    "sf_calendar.head()"
   ]
  },
  {
   "cell_type": "code",
   "execution_count": 28,
   "metadata": {},
   "outputs": [
    {
     "data": {
      "text/html": [
       "<div>\n",
       "<style scoped>\n",
       "    .dataframe tbody tr th:only-of-type {\n",
       "        vertical-align: middle;\n",
       "    }\n",
       "\n",
       "    .dataframe tbody tr th {\n",
       "        vertical-align: top;\n",
       "    }\n",
       "\n",
       "    .dataframe thead th {\n",
       "        text-align: right;\n",
       "    }\n",
       "</style>\n",
       "<table border=\"1\" class=\"dataframe\">\n",
       "  <thead>\n",
       "    <tr style=\"text-align: right;\">\n",
       "      <th></th>\n",
       "      <th>listing_id</th>\n",
       "      <th>date</th>\n",
       "      <th>available</th>\n",
       "      <th>price</th>\n",
       "      <th>adjusted_price</th>\n",
       "      <th>minimum_nights</th>\n",
       "      <th>maximum_nights</th>\n",
       "    </tr>\n",
       "  </thead>\n",
       "  <tbody>\n",
       "    <tr>\n",
       "      <th>0</th>\n",
       "      <td>958</td>\n",
       "      <td>2019-12-04</td>\n",
       "      <td>0</td>\n",
       "      <td>$135.00</td>\n",
       "      <td>$135.00</td>\n",
       "      <td>1.0</td>\n",
       "      <td>30.0</td>\n",
       "    </tr>\n",
       "    <tr>\n",
       "      <th>1</th>\n",
       "      <td>958</td>\n",
       "      <td>2019-12-05</td>\n",
       "      <td>0</td>\n",
       "      <td>$135.00</td>\n",
       "      <td>$135.00</td>\n",
       "      <td>1.0</td>\n",
       "      <td>30.0</td>\n",
       "    </tr>\n",
       "    <tr>\n",
       "      <th>2</th>\n",
       "      <td>958</td>\n",
       "      <td>2019-12-06</td>\n",
       "      <td>0</td>\n",
       "      <td>$135.00</td>\n",
       "      <td>$135.00</td>\n",
       "      <td>1.0</td>\n",
       "      <td>30.0</td>\n",
       "    </tr>\n",
       "    <tr>\n",
       "      <th>3</th>\n",
       "      <td>958</td>\n",
       "      <td>2019-12-07</td>\n",
       "      <td>0</td>\n",
       "      <td>$135.00</td>\n",
       "      <td>$135.00</td>\n",
       "      <td>1.0</td>\n",
       "      <td>30.0</td>\n",
       "    </tr>\n",
       "    <tr>\n",
       "      <th>4</th>\n",
       "      <td>958</td>\n",
       "      <td>2019-12-08</td>\n",
       "      <td>0</td>\n",
       "      <td>$135.00</td>\n",
       "      <td>$135.00</td>\n",
       "      <td>1.0</td>\n",
       "      <td>30.0</td>\n",
       "    </tr>\n",
       "  </tbody>\n",
       "</table>\n",
       "</div>"
      ],
      "text/plain": [
       "   listing_id       date  available    price adjusted_price  minimum_nights  \\\n",
       "0         958 2019-12-04          0  $135.00        $135.00             1.0   \n",
       "1         958 2019-12-05          0  $135.00        $135.00             1.0   \n",
       "2         958 2019-12-06          0  $135.00        $135.00             1.0   \n",
       "3         958 2019-12-07          0  $135.00        $135.00             1.0   \n",
       "4         958 2019-12-08          0  $135.00        $135.00             1.0   \n",
       "\n",
       "   maximum_nights  \n",
       "0            30.0  \n",
       "1            30.0  \n",
       "2            30.0  \n",
       "3            30.0  \n",
       "4            30.0  "
      ]
     },
     "execution_count": 28,
     "metadata": {},
     "output_type": "execute_result"
    }
   ],
   "source": [
    "#change true and false as 1 and 0 respectively for considering only available==1 entries\n",
    "replace_map = {'available':{'f': 0,'t' : 1}}\n",
    "sf_calendar.replace(replace_map, inplace=True)\n",
    "sf_calendar.head()"
   ]
  },
  {
   "cell_type": "code",
   "execution_count": 29,
   "metadata": {},
   "outputs": [
    {
     "data": {
      "text/html": [
       "<div>\n",
       "<style scoped>\n",
       "    .dataframe tbody tr th:only-of-type {\n",
       "        vertical-align: middle;\n",
       "    }\n",
       "\n",
       "    .dataframe tbody tr th {\n",
       "        vertical-align: top;\n",
       "    }\n",
       "\n",
       "    .dataframe thead th {\n",
       "        text-align: right;\n",
       "    }\n",
       "</style>\n",
       "<table border=\"1\" class=\"dataframe\">\n",
       "  <thead>\n",
       "    <tr style=\"text-align: right;\">\n",
       "      <th></th>\n",
       "      <th>id</th>\n",
       "      <th>name</th>\n",
       "      <th>host_id</th>\n",
       "      <th>host_name</th>\n",
       "      <th>neighbourhood_group</th>\n",
       "      <th>neighbourhood</th>\n",
       "      <th>latitude</th>\n",
       "      <th>longitude</th>\n",
       "      <th>room_type</th>\n",
       "      <th>price</th>\n",
       "      <th>minimum_nights</th>\n",
       "      <th>number_of_reviews</th>\n",
       "      <th>last_review</th>\n",
       "      <th>reviews_per_month</th>\n",
       "      <th>calculated_host_listings_count</th>\n",
       "      <th>availability_365</th>\n",
       "    </tr>\n",
       "  </thead>\n",
       "  <tbody>\n",
       "    <tr>\n",
       "      <th>0</th>\n",
       "      <td>958</td>\n",
       "      <td>Bright, Modern Garden Unit - 1BR/1B</td>\n",
       "      <td>1169</td>\n",
       "      <td>Holly</td>\n",
       "      <td>NaN</td>\n",
       "      <td>Western Addition</td>\n",
       "      <td>37.76931</td>\n",
       "      <td>-122.43386</td>\n",
       "      <td>Entire home/apt</td>\n",
       "      <td>170</td>\n",
       "      <td>1</td>\n",
       "      <td>226</td>\n",
       "      <td>2019-11-17</td>\n",
       "      <td>1.79</td>\n",
       "      <td>1</td>\n",
       "      <td>71</td>\n",
       "    </tr>\n",
       "    <tr>\n",
       "      <th>1</th>\n",
       "      <td>3850</td>\n",
       "      <td>Charming room for two</td>\n",
       "      <td>4921</td>\n",
       "      <td>Kevin</td>\n",
       "      <td>NaN</td>\n",
       "      <td>Inner Sunset</td>\n",
       "      <td>37.75402</td>\n",
       "      <td>-122.45805</td>\n",
       "      <td>Private room</td>\n",
       "      <td>99</td>\n",
       "      <td>1</td>\n",
       "      <td>175</td>\n",
       "      <td>2019-12-01</td>\n",
       "      <td>1.38</td>\n",
       "      <td>3</td>\n",
       "      <td>74</td>\n",
       "    </tr>\n",
       "    <tr>\n",
       "      <th>2</th>\n",
       "      <td>5858</td>\n",
       "      <td>Creative Sanctuary</td>\n",
       "      <td>8904</td>\n",
       "      <td>Philip And Tania</td>\n",
       "      <td>NaN</td>\n",
       "      <td>Bernal Heights</td>\n",
       "      <td>37.74511</td>\n",
       "      <td>-122.42102</td>\n",
       "      <td>Entire home/apt</td>\n",
       "      <td>235</td>\n",
       "      <td>30</td>\n",
       "      <td>111</td>\n",
       "      <td>2017-08-06</td>\n",
       "      <td>0.86</td>\n",
       "      <td>1</td>\n",
       "      <td>1</td>\n",
       "    </tr>\n",
       "    <tr>\n",
       "      <th>3</th>\n",
       "      <td>7918</td>\n",
       "      <td>A Friendly Room - UCSF/USF - San Francisco</td>\n",
       "      <td>21994</td>\n",
       "      <td>Aaron</td>\n",
       "      <td>NaN</td>\n",
       "      <td>Haight Ashbury</td>\n",
       "      <td>37.76669</td>\n",
       "      <td>-122.45250</td>\n",
       "      <td>Private room</td>\n",
       "      <td>65</td>\n",
       "      <td>32</td>\n",
       "      <td>18</td>\n",
       "      <td>2019-09-10</td>\n",
       "      <td>0.14</td>\n",
       "      <td>9</td>\n",
       "      <td>365</td>\n",
       "    </tr>\n",
       "    <tr>\n",
       "      <th>4</th>\n",
       "      <td>8142</td>\n",
       "      <td>Friendly Room Apt. Style -UCSF/USF - San Franc...</td>\n",
       "      <td>21994</td>\n",
       "      <td>Aaron</td>\n",
       "      <td>NaN</td>\n",
       "      <td>Haight Ashbury</td>\n",
       "      <td>37.76487</td>\n",
       "      <td>-122.45183</td>\n",
       "      <td>Private room</td>\n",
       "      <td>65</td>\n",
       "      <td>32</td>\n",
       "      <td>8</td>\n",
       "      <td>2018-09-12</td>\n",
       "      <td>0.13</td>\n",
       "      <td>9</td>\n",
       "      <td>365</td>\n",
       "    </tr>\n",
       "  </tbody>\n",
       "</table>\n",
       "</div>"
      ],
      "text/plain": [
       "     id                                               name  host_id  \\\n",
       "0   958                Bright, Modern Garden Unit - 1BR/1B     1169   \n",
       "1  3850                              Charming room for two     4921   \n",
       "2  5858                                 Creative Sanctuary     8904   \n",
       "3  7918         A Friendly Room - UCSF/USF - San Francisco    21994   \n",
       "4  8142  Friendly Room Apt. Style -UCSF/USF - San Franc...    21994   \n",
       "\n",
       "          host_name  neighbourhood_group     neighbourhood  latitude  \\\n",
       "0             Holly                  NaN  Western Addition  37.76931   \n",
       "1             Kevin                  NaN      Inner Sunset  37.75402   \n",
       "2  Philip And Tania                  NaN    Bernal Heights  37.74511   \n",
       "3             Aaron                  NaN    Haight Ashbury  37.76669   \n",
       "4             Aaron                  NaN    Haight Ashbury  37.76487   \n",
       "\n",
       "   longitude        room_type  price  minimum_nights  number_of_reviews  \\\n",
       "0 -122.43386  Entire home/apt    170               1                226   \n",
       "1 -122.45805     Private room     99               1                175   \n",
       "2 -122.42102  Entire home/apt    235              30                111   \n",
       "3 -122.45250     Private room     65              32                 18   \n",
       "4 -122.45183     Private room     65              32                  8   \n",
       "\n",
       "  last_review  reviews_per_month  calculated_host_listings_count  \\\n",
       "0  2019-11-17               1.79                               1   \n",
       "1  2019-12-01               1.38                               3   \n",
       "2  2017-08-06               0.86                               1   \n",
       "3  2019-09-10               0.14                               9   \n",
       "4  2018-09-12               0.13                               9   \n",
       "\n",
       "   availability_365  \n",
       "0                71  \n",
       "1                74  \n",
       "2                 1  \n",
       "3               365  \n",
       "4               365  "
      ]
     },
     "execution_count": 29,
     "metadata": {},
     "output_type": "execute_result"
    }
   ],
   "source": [
    "sf_listings.head()"
   ]
  },
  {
   "cell_type": "code",
   "execution_count": 30,
   "metadata": {},
   "outputs": [
    {
     "data": {
      "text/html": [
       "<div>\n",
       "<style scoped>\n",
       "    .dataframe tbody tr th:only-of-type {\n",
       "        vertical-align: middle;\n",
       "    }\n",
       "\n",
       "    .dataframe tbody tr th {\n",
       "        vertical-align: top;\n",
       "    }\n",
       "\n",
       "    .dataframe thead th {\n",
       "        text-align: right;\n",
       "    }\n",
       "</style>\n",
       "<table border=\"1\" class=\"dataframe\">\n",
       "  <thead>\n",
       "    <tr style=\"text-align: right;\">\n",
       "      <th></th>\n",
       "      <th>listing_id</th>\n",
       "      <th>date</th>\n",
       "    </tr>\n",
       "  </thead>\n",
       "  <tbody>\n",
       "    <tr>\n",
       "      <th>0</th>\n",
       "      <td>958</td>\n",
       "      <td>2009-07-23</td>\n",
       "    </tr>\n",
       "    <tr>\n",
       "      <th>1</th>\n",
       "      <td>958</td>\n",
       "      <td>2009-08-03</td>\n",
       "    </tr>\n",
       "    <tr>\n",
       "      <th>2</th>\n",
       "      <td>958</td>\n",
       "      <td>2009-09-27</td>\n",
       "    </tr>\n",
       "    <tr>\n",
       "      <th>3</th>\n",
       "      <td>958</td>\n",
       "      <td>2009-11-05</td>\n",
       "    </tr>\n",
       "    <tr>\n",
       "      <th>4</th>\n",
       "      <td>958</td>\n",
       "      <td>2010-02-13</td>\n",
       "    </tr>\n",
       "  </tbody>\n",
       "</table>\n",
       "</div>"
      ],
      "text/plain": [
       "   listing_id       date\n",
       "0         958 2009-07-23\n",
       "1         958 2009-08-03\n",
       "2         958 2009-09-27\n",
       "3         958 2009-11-05\n",
       "4         958 2010-02-13"
      ]
     },
     "execution_count": 30,
     "metadata": {},
     "output_type": "execute_result"
    }
   ],
   "source": [
    "sf_reviews.head()"
   ]
  },
  {
   "cell_type": "code",
   "execution_count": 31,
   "metadata": {},
   "outputs": [
    {
     "name": "stdout",
     "output_type": "stream",
     "text": [
      "         listing_id     available  minimum_nights  maximum_nights\n",
      "count  3.114335e+06  3.114335e+06    3.114309e+06    3.114309e+06\n",
      "mean   2.138650e+07  4.472932e-01    1.174129e+04    1.019015e+06\n",
      "std    1.283859e+07  4.972143e-01    1.082530e+06    4.649850e+07\n",
      "min    9.580000e+02  0.000000e+00    1.000000e+00    1.000000e+00\n",
      "25%    9.760014e+06  0.000000e+00    2.000000e+00    2.900000e+01\n",
      "50%    2.259754e+07  0.000000e+00    4.000000e+00    3.600000e+02\n",
      "75%    3.270356e+07  1.000000e+00    3.000000e+01    1.125000e+03\n",
      "max    4.056928e+07  1.000000e+00    1.000000e+08    2.147484e+09\n",
      "<class 'pandas.core.frame.DataFrame'>\n",
      "RangeIndex: 8533 entries, 0 to 8532\n",
      "Data columns (total 16 columns):\n",
      "id                                8533 non-null int64\n",
      "name                              8533 non-null object\n",
      "host_id                           8533 non-null int64\n",
      "host_name                         8479 non-null object\n",
      "neighbourhood_group               0 non-null float64\n",
      "neighbourhood                     8533 non-null object\n",
      "latitude                          8533 non-null float64\n",
      "longitude                         8533 non-null float64\n",
      "room_type                         8533 non-null object\n",
      "price                             8533 non-null int64\n",
      "minimum_nights                    8533 non-null int64\n",
      "number_of_reviews                 8533 non-null int64\n",
      "last_review                       6642 non-null object\n",
      "reviews_per_month                 6642 non-null float64\n",
      "calculated_host_listings_count    8533 non-null int64\n",
      "availability_365                  8533 non-null int64\n",
      "dtypes: float64(4), int64(7), object(5)\n",
      "memory usage: 1.0+ MB\n",
      "None\n"
     ]
    }
   ],
   "source": [
    "print(sf_calendar.describe())\n",
    "print(sf_listings.info())"
   ]
  },
  {
   "cell_type": "markdown",
   "metadata": {},
   "source": [
    "## Data Preparation\n",
    "#### In this setion, we drop 2 columns a) 'neighbourhood_group' from sf_listings as it has only NaN values b) 'adjusted_price' from sf_calendar as it has the same values as 'price'"
   ]
  },
  {
   "cell_type": "code",
   "execution_count": 6,
   "metadata": {},
   "outputs": [
    {
     "name": "stdout",
     "output_type": "stream",
     "text": [
      "Listings :(8533, 15)\n",
      "Reviews :(382156, 2)\n",
      "Calendar :(3114335, 6)\n"
     ]
    }
   ],
   "source": [
    "# remove redundant columns like neigbourhood_group from listings and adjusted_price from calendar\n",
    "sf_listings = sf_listings.drop(columns = ['neighbourhood_group'])\n",
    "sf_calendar = sf_calendar.drop(['adjusted_price'],axis=1)\n",
    "\n",
    "#check the sizes of the dataset\n",
    "print('Listings :{}'.format(sf_listings.shape))\n",
    "print('Reviews :{}'.format(sf_reviews.shape))\n",
    "print('Calendar :{}'.format(sf_calendar.shape))"
   ]
  },
  {
   "cell_type": "markdown",
   "metadata": {},
   "source": [
    "## 1. What months are busiest in San Francisco? What are the price variations?"
   ]
  },
  {
   "cell_type": "markdown",
   "metadata": {},
   "source": [
    "### Busiest Months in San Francisco"
   ]
  },
  {
   "cell_type": "code",
   "execution_count": 7,
   "metadata": {},
   "outputs": [
    {
     "data": {
      "text/html": [
       "<div>\n",
       "<style scoped>\n",
       "    .dataframe tbody tr th:only-of-type {\n",
       "        vertical-align: middle;\n",
       "    }\n",
       "\n",
       "    .dataframe tbody tr th {\n",
       "        vertical-align: top;\n",
       "    }\n",
       "\n",
       "    .dataframe thead th {\n",
       "        text-align: right;\n",
       "    }\n",
       "</style>\n",
       "<table border=\"1\" class=\"dataframe\">\n",
       "  <thead>\n",
       "    <tr style=\"text-align: right;\">\n",
       "      <th></th>\n",
       "      <th>Number of reviews</th>\n",
       "    </tr>\n",
       "  </thead>\n",
       "  <tbody>\n",
       "    <tr>\n",
       "      <th>2009-12-31</th>\n",
       "      <td>46</td>\n",
       "    </tr>\n",
       "    <tr>\n",
       "      <th>2010-12-31</th>\n",
       "      <td>410</td>\n",
       "    </tr>\n",
       "    <tr>\n",
       "      <th>2011-12-31</th>\n",
       "      <td>1786</td>\n",
       "    </tr>\n",
       "    <tr>\n",
       "      <th>2012-12-31</th>\n",
       "      <td>3901</td>\n",
       "    </tr>\n",
       "    <tr>\n",
       "      <th>2013-12-31</th>\n",
       "      <td>8491</td>\n",
       "    </tr>\n",
       "    <tr>\n",
       "      <th>2014-12-31</th>\n",
       "      <td>18717</td>\n",
       "    </tr>\n",
       "    <tr>\n",
       "      <th>2015-12-31</th>\n",
       "      <td>30756</td>\n",
       "    </tr>\n",
       "    <tr>\n",
       "      <th>2016-12-31</th>\n",
       "      <td>49333</td>\n",
       "    </tr>\n",
       "    <tr>\n",
       "      <th>2017-12-31</th>\n",
       "      <td>68745</td>\n",
       "    </tr>\n",
       "    <tr>\n",
       "      <th>2018-12-31</th>\n",
       "      <td>91148</td>\n",
       "    </tr>\n",
       "    <tr>\n",
       "      <th>2019-12-31</th>\n",
       "      <td>108823</td>\n",
       "    </tr>\n",
       "  </tbody>\n",
       "</table>\n",
       "</div>"
      ],
      "text/plain": [
       "            Number of reviews\n",
       "2009-12-31                 46\n",
       "2010-12-31                410\n",
       "2011-12-31               1786\n",
       "2012-12-31               3901\n",
       "2013-12-31               8491\n",
       "2014-12-31              18717\n",
       "2015-12-31              30756\n",
       "2016-12-31              49333\n",
       "2017-12-31              68745\n",
       "2018-12-31              91148\n",
       "2019-12-31             108823"
      ]
     },
     "execution_count": 7,
     "metadata": {},
     "output_type": "execute_result"
    }
   ],
   "source": [
    "# make new dataframe for number of reviews\n",
    "rev_freq = pd.DataFrame(sf_reviews['date'].value_counts().values,\n",
    "                        index=sf_reviews['date'].value_counts().index,\n",
    "                        columns=['Number of reviews'])\n",
    "\n",
    "# resample data grouping by year\n",
    "rev_freq_year = rev_freq.resample('A').sum()\n",
    "# Print values\n",
    "rev_freq_year"
   ]
  },
  {
   "cell_type": "code",
   "execution_count": 8,
   "metadata": {},
   "outputs": [
    {
     "name": "stdout",
     "output_type": "stream",
     "text": [
      "2009-05-03 00:00:00\n",
      "2019-12-04 00:00:00\n"
     ]
    }
   ],
   "source": [
    "#Finding out the earliest and latest review date\n",
    "sf_reviews['StartDate'] = pd.to_datetime(sf_reviews['date'])\n",
    "least_recent_date = sf_reviews['StartDate'].min()\n",
    "recent_date = sf_reviews['StartDate'].max()\n",
    "print(least_recent_date)\n",
    "print(recent_date)"
   ]
  },
  {
   "cell_type": "code",
   "execution_count": 9,
   "metadata": {},
   "outputs": [
    {
     "data": {
      "text/html": [
       "<div>\n",
       "<style scoped>\n",
       "    .dataframe tbody tr th:only-of-type {\n",
       "        vertical-align: middle;\n",
       "    }\n",
       "\n",
       "    .dataframe tbody tr th {\n",
       "        vertical-align: top;\n",
       "    }\n",
       "\n",
       "    .dataframe thead th {\n",
       "        text-align: right;\n",
       "    }\n",
       "</style>\n",
       "<table border=\"1\" class=\"dataframe\">\n",
       "  <thead>\n",
       "    <tr style=\"text-align: right;\">\n",
       "      <th></th>\n",
       "      <th>Number of reviews</th>\n",
       "      <th>% rev</th>\n",
       "    </tr>\n",
       "  </thead>\n",
       "  <tbody>\n",
       "    <tr>\n",
       "      <th>2018-01-31</th>\n",
       "      <td>5811</td>\n",
       "      <td>6.375346</td>\n",
       "    </tr>\n",
       "    <tr>\n",
       "      <th>2018-02-28</th>\n",
       "      <td>5475</td>\n",
       "      <td>6.006714</td>\n",
       "    </tr>\n",
       "    <tr>\n",
       "      <th>2018-03-31</th>\n",
       "      <td>7121</td>\n",
       "      <td>7.812569</td>\n",
       "    </tr>\n",
       "    <tr>\n",
       "      <th>2018-04-30</th>\n",
       "      <td>7157</td>\n",
       "      <td>7.852065</td>\n",
       "    </tr>\n",
       "    <tr>\n",
       "      <th>2018-05-31</th>\n",
       "      <td>8251</td>\n",
       "      <td>9.052311</td>\n",
       "    </tr>\n",
       "    <tr>\n",
       "      <th>2018-06-30</th>\n",
       "      <td>8010</td>\n",
       "      <td>8.787905</td>\n",
       "    </tr>\n",
       "    <tr>\n",
       "      <th>2018-07-31</th>\n",
       "      <td>8937</td>\n",
       "      <td>9.804933</td>\n",
       "    </tr>\n",
       "    <tr>\n",
       "      <th>2018-08-31</th>\n",
       "      <td>9312</td>\n",
       "      <td>10.216351</td>\n",
       "    </tr>\n",
       "    <tr>\n",
       "      <th>2018-09-30</th>\n",
       "      <td>9266</td>\n",
       "      <td>10.165884</td>\n",
       "    </tr>\n",
       "    <tr>\n",
       "      <th>2018-10-31</th>\n",
       "      <td>9505</td>\n",
       "      <td>10.428095</td>\n",
       "    </tr>\n",
       "    <tr>\n",
       "      <th>2018-11-30</th>\n",
       "      <td>6665</td>\n",
       "      <td>7.312283</td>\n",
       "    </tr>\n",
       "    <tr>\n",
       "      <th>2018-12-31</th>\n",
       "      <td>5638</td>\n",
       "      <td>6.185544</td>\n",
       "    </tr>\n",
       "  </tbody>\n",
       "</table>\n",
       "</div>"
      ],
      "text/plain": [
       "            Number of reviews      % rev\n",
       "2018-01-31               5811   6.375346\n",
       "2018-02-28               5475   6.006714\n",
       "2018-03-31               7121   7.812569\n",
       "2018-04-30               7157   7.852065\n",
       "2018-05-31               8251   9.052311\n",
       "2018-06-30               8010   8.787905\n",
       "2018-07-31               8937   9.804933\n",
       "2018-08-31               9312  10.216351\n",
       "2018-09-30               9266  10.165884\n",
       "2018-10-31               9505  10.428095\n",
       "2018-11-30               6665   7.312283\n",
       "2018-12-31               5638   6.185544"
      ]
     },
     "execution_count": 9,
     "metadata": {},
     "output_type": "execute_result"
    }
   ],
   "source": [
    "# Select the year 2018\n",
    "rev_freq_2018 = rev_freq.loc['2018']\n",
    "# The review sum per month\n",
    "rev_2018_month = rev_freq_2018.resample('M').sum()\n",
    "rev_2018_month['% rev'] = (rev_2018_month['Number of reviews']*100)/rev_2018_month['Number of reviews'].sum()\n",
    "# Print values\n",
    "rev_2018_month"
   ]
  },
  {
   "cell_type": "code",
   "execution_count": 13,
   "metadata": {},
   "outputs": [],
   "source": [
    "def bar_plot(X,Y,x_label,y_label,title) :\n",
    "    \"\"\"\n",
    "    Description: This function can be used to plot bar plots.\n",
    "\n",
    "    Arguments:\n",
    "    X = values to be plotted on x-axis\n",
    "    Y = values to be plotted on y-axis\n",
    "    x_label = Label to be placed near x-axis\n",
    "    y_label = Label to be placed near y-axis\n",
    "    title = title of plot\n",
    "\n",
    "    Returns:\n",
    "    None\n",
    "    \"\"\" \n",
    "# Bar plot\n",
    "    fig1 = plt.figure(figsize=(10, 5))\n",
    "    ax = fig1.add_subplot(1, 1, 1, aspect='auto')\n",
    "    sns.barplot(x=X, y=Y)\n",
    "\n",
    "# Set axis label properties\n",
    "    ax.set_xlabel(x_label, weight='normal', size=20)\n",
    "    ax.set_ylabel(y_label, weight='normal', size=20)\n",
    "    plt.title(title, fontsize=20)\n",
    "\n",
    "# Set tick label properties\n",
    "    ax.tick_params('x', labelsize=15, rotation=35)\n",
    "    ax.tick_params('y', labelsize=15)\n",
    "    plt.show()\n",
    "    \n",
    "    "
   ]
  },
  {
   "cell_type": "code",
   "execution_count": 14,
   "metadata": {},
   "outputs": [
    {
     "data": {
      "image/png": "[encoded data removed]",
      "text/plain": [
       "<Figure size 720x360 with 1 Axes>"
      ]
     },
     "metadata": {
      "needs_background": "light"
     },
     "output_type": "display_data"
    }
   ],
   "source": [
    "bar_plot(rev_2018_month.index.month_name(),rev_2018_month['% rev'],'Month','Reviews percentage %',\n",
    "         'Reviews percentage per month in 2018')"
   ]
  },
  {
   "cell_type": "code",
   "execution_count": 16,
   "metadata": {},
   "outputs": [
    {
     "data": {
      "text/html": [
       "<div>\n",
       "<style scoped>\n",
       "    .dataframe tbody tr th:only-of-type {\n",
       "        vertical-align: middle;\n",
       "    }\n",
       "\n",
       "    .dataframe tbody tr th {\n",
       "        vertical-align: top;\n",
       "    }\n",
       "\n",
       "    .dataframe thead th {\n",
       "        text-align: right;\n",
       "    }\n",
       "</style>\n",
       "<table border=\"1\" class=\"dataframe\">\n",
       "  <thead>\n",
       "    <tr style=\"text-align: right;\">\n",
       "      <th></th>\n",
       "      <th>Number of reviews</th>\n",
       "      <th>% rev</th>\n",
       "    </tr>\n",
       "  </thead>\n",
       "  <tbody>\n",
       "    <tr>\n",
       "      <th>2019-01-31</th>\n",
       "      <td>7811</td>\n",
       "      <td>7.177711</td>\n",
       "    </tr>\n",
       "    <tr>\n",
       "      <th>2019-02-28</th>\n",
       "      <td>7683</td>\n",
       "      <td>7.060088</td>\n",
       "    </tr>\n",
       "    <tr>\n",
       "      <th>2019-03-31</th>\n",
       "      <td>9211</td>\n",
       "      <td>8.464203</td>\n",
       "    </tr>\n",
       "    <tr>\n",
       "      <th>2019-04-30</th>\n",
       "      <td>9101</td>\n",
       "      <td>8.363122</td>\n",
       "    </tr>\n",
       "    <tr>\n",
       "      <th>2019-05-31</th>\n",
       "      <td>10434</td>\n",
       "      <td>9.588047</td>\n",
       "    </tr>\n",
       "    <tr>\n",
       "      <th>2019-06-30</th>\n",
       "      <td>10290</td>\n",
       "      <td>9.455722</td>\n",
       "    </tr>\n",
       "    <tr>\n",
       "      <th>2019-07-31</th>\n",
       "      <td>10156</td>\n",
       "      <td>9.332586</td>\n",
       "    </tr>\n",
       "    <tr>\n",
       "      <th>2019-08-31</th>\n",
       "      <td>11619</td>\n",
       "      <td>10.676971</td>\n",
       "    </tr>\n",
       "    <tr>\n",
       "      <th>2019-09-30</th>\n",
       "      <td>12111</td>\n",
       "      <td>11.129081</td>\n",
       "    </tr>\n",
       "    <tr>\n",
       "      <th>2019-10-31</th>\n",
       "      <td>11406</td>\n",
       "      <td>10.481240</td>\n",
       "    </tr>\n",
       "    <tr>\n",
       "      <th>2019-11-30</th>\n",
       "      <td>8694</td>\n",
       "      <td>7.989120</td>\n",
       "    </tr>\n",
       "    <tr>\n",
       "      <th>2019-12-31</th>\n",
       "      <td>307</td>\n",
       "      <td>0.282109</td>\n",
       "    </tr>\n",
       "  </tbody>\n",
       "</table>\n",
       "</div>"
      ],
      "text/plain": [
       "            Number of reviews      % rev\n",
       "2019-01-31               7811   7.177711\n",
       "2019-02-28               7683   7.060088\n",
       "2019-03-31               9211   8.464203\n",
       "2019-04-30               9101   8.363122\n",
       "2019-05-31              10434   9.588047\n",
       "2019-06-30              10290   9.455722\n",
       "2019-07-31              10156   9.332586\n",
       "2019-08-31              11619  10.676971\n",
       "2019-09-30              12111  11.129081\n",
       "2019-10-31              11406  10.481240\n",
       "2019-11-30               8694   7.989120\n",
       "2019-12-31                307   0.282109"
      ]
     },
     "execution_count": 16,
     "metadata": {},
     "output_type": "execute_result"
    }
   ],
   "source": [
    "# Select the year 2019\n",
    "rev_freq_2019 = rev_freq.loc['2019']\n",
    "# The review sum per month\n",
    "rev_2019_month = rev_freq_2019.resample('M').sum()\n",
    "rev_2019_month['% rev'] = (rev_2019_month['Number of reviews']*100)/rev_2019_month['Number of reviews'].sum()\n",
    "# Print values\n",
    "rev_2019_month\n"
   ]
  },
  {
   "cell_type": "code",
   "execution_count": 17,
   "metadata": {},
   "outputs": [
    {
     "data": {
      "image/png": "[encoded data removed]",
      "text/plain": [
       "<Figure size 720x360 with 1 Axes>"
      ]
     },
     "metadata": {
      "needs_background": "light"
     },
     "output_type": "display_data"
    }
   ],
   "source": [
    "bar_plot(rev_2019_month.index.month_name(),rev_2019_month['% rev'],'Month','Reviews percentage %',\n",
    "         'Reviews percentage per month in 2019')\n"
   ]
  },
  {
   "cell_type": "markdown",
   "metadata": {},
   "source": [
    "#### Result : August, September and October are the busiest months."
   ]
  },
  {
   "cell_type": "markdown",
   "metadata": {},
   "source": [
    "### Price Variations"
   ]
  },
  {
   "cell_type": "code",
   "execution_count": 18,
   "metadata": {},
   "outputs": [],
   "source": [
    "#Remove all rows which have 0 for availibility as they cannot influence price\n",
    "sf_calendar_copy = sf_calendar.copy()\n",
    "sf_calendar_copy = sf_calendar_copy[sf_calendar_copy['available']==1]"
   ]
  },
  {
   "cell_type": "code",
   "execution_count": 19,
   "metadata": {},
   "outputs": [
    {
     "data": {
      "text/html": [
       "<div>\n",
       "<style scoped>\n",
       "    .dataframe tbody tr th:only-of-type {\n",
       "        vertical-align: middle;\n",
       "    }\n",
       "\n",
       "    .dataframe tbody tr th {\n",
       "        vertical-align: top;\n",
       "    }\n",
       "\n",
       "    .dataframe thead th {\n",
       "        text-align: right;\n",
       "    }\n",
       "</style>\n",
       "<table border=\"1\" class=\"dataframe\">\n",
       "  <thead>\n",
       "    <tr style=\"text-align: right;\">\n",
       "      <th></th>\n",
       "      <th>Frequency of Price</th>\n",
       "    </tr>\n",
       "  </thead>\n",
       "  <tbody>\n",
       "    <tr>\n",
       "      <th>2019-12-31</th>\n",
       "      <td>91954</td>\n",
       "    </tr>\n",
       "    <tr>\n",
       "      <th>2020-12-31</th>\n",
       "      <td>1301067</td>\n",
       "    </tr>\n",
       "  </tbody>\n",
       "</table>\n",
       "</div>"
      ],
      "text/plain": [
       "            Frequency of Price\n",
       "2019-12-31               91954\n",
       "2020-12-31             1301067"
      ]
     },
     "execution_count": 19,
     "metadata": {},
     "output_type": "execute_result"
    }
   ],
   "source": [
    "# Number of price listings per year\n",
    "freq_cal = pd.DataFrame(sf_calendar_copy['date'].value_counts().values,\n",
    "                        index=sf_calendar_copy['date'].value_counts().index,\n",
    "                        columns=['Frequency of Price'])\n",
    "freq_year_cal = freq_cal.resample('A').sum()\n",
    "# Print values\n",
    "freq_year_cal"
   ]
  },
  {
   "cell_type": "code",
   "execution_count": 20,
   "metadata": {},
   "outputs": [
    {
     "name": "stdout",
     "output_type": "stream",
     "text": [
      "2019-12-04 00:00:00\n",
      "2020-12-03 00:00:00\n"
     ]
    }
   ],
   "source": [
    "#start and end date of entries in calendar.csv\n",
    "sf_calendar_copy['StartDate'] = pd.to_datetime(sf_calendar_copy['date'])\n",
    "least_recent_date = sf_calendar_copy['StartDate'].min()\n",
    "recent_date = sf_calendar_copy['StartDate'].max()\n",
    "print(least_recent_date)\n",
    "print(recent_date)"
   ]
  },
  {
   "cell_type": "code",
   "execution_count": 21,
   "metadata": {},
   "outputs": [
    {
     "data": {
      "text/plain": [
       "listing_id        0.000000\n",
       "date              0.000000\n",
       "available         0.000000\n",
       "price             0.000098\n",
       "minimum_nights    0.000000\n",
       "maximum_nights    0.000000\n",
       "StartDate         0.000000\n",
       "dtype: float64"
      ]
     },
     "execution_count": 21,
     "metadata": {},
     "output_type": "execute_result"
    }
   ],
   "source": [
    "# Index data by date\n",
    "sf_calendar_copy.index = sf_calendar_copy['date']\n",
    "\n",
    "# Get data for 2020\n",
    "sf_calendar_2020 = sf_calendar_copy.loc['2020']\n",
    "\n",
    "# Percentage of missing values\n",
    "sf_calendar_2020.isnull().mean()"
   ]
  },
  {
   "cell_type": "code",
   "execution_count": 22,
   "metadata": {},
   "outputs": [
    {
     "data": {
      "text/html": [
       "<div>\n",
       "<style scoped>\n",
       "    .dataframe tbody tr th:only-of-type {\n",
       "        vertical-align: middle;\n",
       "    }\n",
       "\n",
       "    .dataframe tbody tr th {\n",
       "        vertical-align: top;\n",
       "    }\n",
       "\n",
       "    .dataframe thead th {\n",
       "        text-align: right;\n",
       "    }\n",
       "</style>\n",
       "<table border=\"1\" class=\"dataframe\">\n",
       "  <thead>\n",
       "    <tr style=\"text-align: right;\">\n",
       "      <th></th>\n",
       "      <th>price</th>\n",
       "      <th>available</th>\n",
       "    </tr>\n",
       "    <tr>\n",
       "      <th>date</th>\n",
       "      <th></th>\n",
       "      <th></th>\n",
       "    </tr>\n",
       "  </thead>\n",
       "  <tbody>\n",
       "    <tr>\n",
       "      <th>2020-01-31</th>\n",
       "      <td>146.0</td>\n",
       "      <td>1</td>\n",
       "    </tr>\n",
       "    <tr>\n",
       "      <th>2020-02-01</th>\n",
       "      <td>146.0</td>\n",
       "      <td>1</td>\n",
       "    </tr>\n",
       "    <tr>\n",
       "      <th>2020-02-02</th>\n",
       "      <td>138.0</td>\n",
       "      <td>1</td>\n",
       "    </tr>\n",
       "    <tr>\n",
       "      <th>2020-02-05</th>\n",
       "      <td>135.0</td>\n",
       "      <td>1</td>\n",
       "    </tr>\n",
       "    <tr>\n",
       "      <th>2020-02-17</th>\n",
       "      <td>136.0</td>\n",
       "      <td>1</td>\n",
       "    </tr>\n",
       "  </tbody>\n",
       "</table>\n",
       "</div>"
      ],
      "text/plain": [
       "            price  available\n",
       "date                        \n",
       "2020-01-31  146.0          1\n",
       "2020-02-01  146.0          1\n",
       "2020-02-02  138.0          1\n",
       "2020-02-05  135.0          1\n",
       "2020-02-17  136.0          1"
      ]
     },
     "execution_count": 22,
     "metadata": {},
     "output_type": "execute_result"
    }
   ],
   "source": [
    "# Drop rows with missing price values as there are 98 missing values\n",
    "sf_calendar_2020_c = sf_calendar_2020.dropna()\n",
    "\n",
    "# Preprocess the price variable\n",
    "sf_calendar_2020_c['price'] = sf_calendar_2020_c['price'].apply(\n",
    "    lambda x: float(x[1:].replace(',', '')))\n",
    "sf_calendar_2020_c = sf_calendar_2020_c[['price','available']]\n",
    "\n",
    "# Print the first five rows\n",
    "sf_calendar_2020_c.head()"
   ]
  },
  {
   "cell_type": "code",
   "execution_count": 23,
   "metadata": {},
   "outputs": [
    {
     "name": "stdout",
     "output_type": "stream",
     "text": [
      "Price min :  10.0\n",
      "Price max :  10199.0\n",
      "Price mean :  228.08335671388127\n"
     ]
    }
   ],
   "source": [
    "# The price\n",
    "print(\"Price min : \",  sf_calendar_2020_c['price'].min())\n",
    "print(\"Price max : \",  sf_calendar_2020_c['price'].max())\n",
    "print(\"Price mean : \", sf_calendar_2020_c['price'].mean())"
   ]
  },
  {
   "cell_type": "code",
   "execution_count": 24,
   "metadata": {},
   "outputs": [
    {
     "data": {
      "text/html": [
       "<div>\n",
       "<style scoped>\n",
       "    .dataframe tbody tr th:only-of-type {\n",
       "        vertical-align: middle;\n",
       "    }\n",
       "\n",
       "    .dataframe tbody tr th {\n",
       "        vertical-align: top;\n",
       "    }\n",
       "\n",
       "    .dataframe thead th {\n",
       "        text-align: right;\n",
       "    }\n",
       "</style>\n",
       "<table border=\"1\" class=\"dataframe\">\n",
       "  <thead>\n",
       "    <tr style=\"text-align: right;\">\n",
       "      <th></th>\n",
       "      <th>price</th>\n",
       "      <th>available</th>\n",
       "      <th>diff mean</th>\n",
       "    </tr>\n",
       "    <tr>\n",
       "      <th>date</th>\n",
       "      <th></th>\n",
       "      <th></th>\n",
       "      <th></th>\n",
       "    </tr>\n",
       "  </thead>\n",
       "  <tbody>\n",
       "    <tr>\n",
       "      <th>2020-01-31</th>\n",
       "      <td>199.722963</td>\n",
       "      <td>1</td>\n",
       "      <td>-28.360394</td>\n",
       "    </tr>\n",
       "    <tr>\n",
       "      <th>2020-02-29</th>\n",
       "      <td>203.679432</td>\n",
       "      <td>1</td>\n",
       "      <td>-24.403925</td>\n",
       "    </tr>\n",
       "    <tr>\n",
       "      <th>2020-03-31</th>\n",
       "      <td>207.478089</td>\n",
       "      <td>1</td>\n",
       "      <td>-20.605268</td>\n",
       "    </tr>\n",
       "    <tr>\n",
       "      <th>2020-04-30</th>\n",
       "      <td>210.836898</td>\n",
       "      <td>1</td>\n",
       "      <td>-17.246459</td>\n",
       "    </tr>\n",
       "    <tr>\n",
       "      <th>2020-05-31</th>\n",
       "      <td>213.285684</td>\n",
       "      <td>1</td>\n",
       "      <td>-14.797673</td>\n",
       "    </tr>\n",
       "    <tr>\n",
       "      <th>2020-06-30</th>\n",
       "      <td>224.559089</td>\n",
       "      <td>1</td>\n",
       "      <td>-3.524268</td>\n",
       "    </tr>\n",
       "    <tr>\n",
       "      <th>2020-07-31</th>\n",
       "      <td>226.781820</td>\n",
       "      <td>1</td>\n",
       "      <td>-1.301537</td>\n",
       "    </tr>\n",
       "    <tr>\n",
       "      <th>2020-08-31</th>\n",
       "      <td>222.104371</td>\n",
       "      <td>1</td>\n",
       "      <td>-5.978986</td>\n",
       "    </tr>\n",
       "    <tr>\n",
       "      <th>2020-09-30</th>\n",
       "      <td>282.021268</td>\n",
       "      <td>1</td>\n",
       "      <td>53.937911</td>\n",
       "    </tr>\n",
       "    <tr>\n",
       "      <th>2020-10-31</th>\n",
       "      <td>282.685514</td>\n",
       "      <td>1</td>\n",
       "      <td>54.602158</td>\n",
       "    </tr>\n",
       "    <tr>\n",
       "      <th>2020-11-30</th>\n",
       "      <td>276.185427</td>\n",
       "      <td>1</td>\n",
       "      <td>48.102070</td>\n",
       "    </tr>\n",
       "    <tr>\n",
       "      <th>2020-12-31</th>\n",
       "      <td>205.394309</td>\n",
       "      <td>1</td>\n",
       "      <td>-22.689048</td>\n",
       "    </tr>\n",
       "  </tbody>\n",
       "</table>\n",
       "</div>"
      ],
      "text/plain": [
       "                 price  available  diff mean\n",
       "date                                        \n",
       "2020-01-31  199.722963          1 -28.360394\n",
       "2020-02-29  203.679432          1 -24.403925\n",
       "2020-03-31  207.478089          1 -20.605268\n",
       "2020-04-30  210.836898          1 -17.246459\n",
       "2020-05-31  213.285684          1 -14.797673\n",
       "2020-06-30  224.559089          1  -3.524268\n",
       "2020-07-31  226.781820          1  -1.301537\n",
       "2020-08-31  222.104371          1  -5.978986\n",
       "2020-09-30  282.021268          1  53.937911\n",
       "2020-10-31  282.685514          1  54.602158\n",
       "2020-11-30  276.185427          1  48.102070\n",
       "2020-12-31  205.394309          1 -22.689048"
      ]
     },
     "execution_count": 24,
     "metadata": {},
     "output_type": "execute_result"
    }
   ],
   "source": [
    "# Resemple data by month\n",
    "df_2020_month = sf_calendar_2020_c.resample('M').mean()\n",
    "# difference between the price mean per month and the price mean\n",
    "df_2020_month['diff mean'] = df_2020_month['price'] \\\n",
    "    - sf_calendar_2020_c['price'].mean()\n",
    "\n",
    "# Print data\n",
    "df_2020_month"
   ]
  },
  {
   "cell_type": "code",
   "execution_count": 25,
   "metadata": {},
   "outputs": [
    {
     "data": {
      "image/png": "[encoded data removed]",
      "text/plain": [
       "<Figure size 720x360 with 1 Axes>"
      ]
     },
     "metadata": {
      "needs_background": "light"
     },
     "output_type": "display_data"
    }
   ],
   "source": [
    "bar_plot(df_2020_month.index.month_name(),df_2020_month['diff mean'],'Month','Price difference [$]',\n",
    "         'Price difference from average in 2020')\n",
    "\n"
   ]
  },
  {
   "cell_type": "markdown",
   "metadata": {},
   "source": [
    "#### Result : September, October and November are the most expensive months. December,January and February are least expensive."
   ]
  },
  {
   "cell_type": "markdown",
   "metadata": {},
   "source": [
    "## 2. What types of rooms are available? What is the price difference according to room type?"
   ]
  },
  {
   "cell_type": "code",
   "execution_count": 21,
   "metadata": {},
   "outputs": [
    {
     "name": "stdout",
     "output_type": "stream",
     "text": [
      "room_type\n",
      "Private room       140.102276\n",
      "Hotel room         154.006494\n",
      "Entire home/apt    154.833501\n",
      "Shared room        229.491468\n",
      "Name: availability_365, dtype: float64\n"
     ]
    }
   ],
   "source": [
    "#availability per room type\n",
    "sf_listings.room_type.value_counts()\n",
    "sf_houses = sf_listings.groupby(['room_type']).mean()['availability_365'].sort_values()\n",
    "print(sf_houses)"
   ]
  },
  {
   "cell_type": "code",
   "execution_count": 22,
   "metadata": {},
   "outputs": [
    {
     "data": {
      "image/png": "[encoded data removed]",
      "text/plain": [
       "<Figure size 432x288 with 1 Axes>"
      ]
     },
     "metadata": {
      "needs_background": "light"
     },
     "output_type": "display_data"
    }
   ],
   "source": [
    "#plot availability vs room_type\n",
    "sf_houses.plot(kind=\"bar\");\n",
    "plt.xlabel(\"Type of room\")\n",
    "plt.ylabel(\"No. of available days\")\n",
    "plt.title(\"Availibility according to type of house\");"
   ]
  },
  {
   "cell_type": "code",
   "execution_count": 23,
   "metadata": {},
   "outputs": [
    {
     "data": {
      "text/plain": [
       "id                                0.000000\n",
       "name                              0.000000\n",
       "host_id                           0.000000\n",
       "host_name                         0.006328\n",
       "neighbourhood                     0.000000\n",
       "latitude                          0.000000\n",
       "longitude                         0.000000\n",
       "room_type                         0.000000\n",
       "price                             0.000000\n",
       "minimum_nights                    0.000000\n",
       "number_of_reviews                 0.000000\n",
       "last_review                       0.221610\n",
       "reviews_per_month                 0.221610\n",
       "calculated_host_listings_count    0.000000\n",
       "availability_365                  0.000000\n",
       "dtype: float64"
      ]
     },
     "execution_count": 23,
     "metadata": {},
     "output_type": "execute_result"
    }
   ],
   "source": [
    "#checking if room_type has missing values\n",
    "sf_listings.isnull().mean()"
   ]
  },
  {
   "cell_type": "code",
   "execution_count": 24,
   "metadata": {},
   "outputs": [
    {
     "name": "stdout",
     "output_type": "stream",
     "text": [
      "room_type\n",
      "Shared room         90.453925\n",
      "Private room       140.253286\n",
      "Hotel room         235.292208\n",
      "Entire home/apt    269.363197\n",
      "Name: price, dtype: float64\n"
     ]
    },
    {
     "data": {
      "image/png": "[encoded data removed]",
      "text/plain": [
       "<Figure size 432x288 with 1 Axes>"
      ]
     },
     "metadata": {
      "needs_background": "light"
     },
     "output_type": "display_data"
    }
   ],
   "source": [
    "#average price per room type\n",
    "sf_houses_price = sf_listings.groupby(['room_type']).mean()['price'].sort_values()\n",
    "print(sf_houses_price)\n",
    "sf_houses_price.plot(kind=\"bar\");\n",
    "plt.xlabel(\"Type of room\")\n",
    "plt.ylabel(\"Price in $\")\n",
    "plt.title(\"Price according to type of house\");"
   ]
  },
  {
   "cell_type": "markdown",
   "metadata": {},
   "source": [
    "#### Result : Shared room has highest availability and least price.\n"
   ]
  },
  {
   "cell_type": "markdown",
   "metadata": {},
   "source": [
    "## 3. Which neighbourhood has most listings? Is price related to the number of listings in that neighbourhood?"
   ]
  },
  {
   "cell_type": "code",
   "execution_count": 25,
   "metadata": {},
   "outputs": [
    {
     "data": {
      "text/plain": [
       "Mission                  789\n",
       "Downtown/Civic Center    761\n",
       "South of Market          751\n",
       "Western Addition         630\n",
       "Castro/Upper Market      471\n",
       "Haight Ashbury           413\n",
       "Bernal Heights           411\n",
       "Noe Valley               336\n",
       "Nob Hill                 324\n",
       "Outer Sunset             319\n",
       "Potrero Hill             250\n",
       "Inner Richmond           227\n",
       "Bayview                  226\n",
       "Financial District       205\n",
       "Marina                   194\n",
       "North Beach              190\n",
       "Russian Hill             189\n",
       "Excelsior                189\n",
       "Outer Richmond           188\n",
       "Outer Mission            180\n",
       "Inner Sunset             171\n",
       "Pacific Heights          161\n",
       "West of Twin Peaks       144\n",
       "Ocean View               144\n",
       "Parkside                 142\n",
       "Chinatown                139\n",
       "Visitacion Valley         76\n",
       "Twin Peaks                69\n",
       "Glen Park                 66\n",
       "Lakeshore                 59\n",
       "Crocker Amazon            49\n",
       "Presidio Heights          23\n",
       "Seacliff                  22\n",
       "Diamond Heights           17\n",
       "Golden Gate Park           5\n",
       "Treasure Island/YBI        2\n",
       "Presidio                   1\n",
       "Name: neighbourhood, dtype: int64"
      ]
     },
     "execution_count": 25,
     "metadata": {},
     "output_type": "execute_result"
    }
   ],
   "source": [
    "#Number of listings per neighborhood\n",
    "sf_listings['neighbourhood'].value_counts()"
   ]
  },
  {
   "cell_type": "markdown",
   "metadata": {},
   "source": [
    "### Which neighbourhood has most availibility?"
   ]
  },
  {
   "cell_type": "code",
   "execution_count": 26,
   "metadata": {},
   "outputs": [
    {
     "data": {
      "text/plain": [
       "neighbourhood\n",
       "Treasure Island/YBI      101.500000\n",
       "Diamond Heights          105.882353\n",
       "Bernal Heights           110.732360\n",
       "Glen Park                121.424242\n",
       "Outer Sunset             127.946708\n",
       "Parkside                 128.690141\n",
       "Inner Richmond           132.414097\n",
       "Financial District       132.453659\n",
       "Castro/Upper Market      133.016985\n",
       "Visitacion Valley        133.881579\n",
       "Potrero Hill             134.416000\n",
       "Inner Sunset             136.228070\n",
       "Noe Valley               136.750000\n",
       "Excelsior                137.444444\n",
       "Mission                  137.711027\n",
       "Chinatown                138.021583\n",
       "Downtown/Civic Center    142.942181\n",
       "Russian Hill             143.248677\n",
       "Outer Mission            144.044444\n",
       "Outer Richmond           146.489362\n",
       "Ocean View               154.298611\n",
       "Twin Peaks               154.333333\n",
       "Bayview                  159.539823\n",
       "Golden Gate Park         168.200000\n",
       "Western Addition         169.177778\n",
       "North Beach              170.052632\n",
       "West of Twin Peaks       172.840278\n",
       "Haight Ashbury           173.547215\n",
       "Crocker Amazon           174.448980\n",
       "Pacific Heights          177.229814\n",
       "Seacliff                 177.909091\n",
       "Marina                   184.360825\n",
       "South of Market          186.960053\n",
       "Presidio Heights         205.652174\n",
       "Nob Hill                 205.895062\n",
       "Lakeshore                206.372881\n",
       "Presidio                 351.000000\n",
       "Name: availability_365, dtype: float64"
      ]
     },
     "execution_count": 26,
     "metadata": {},
     "output_type": "execute_result"
    }
   ],
   "source": [
    "#available days per neighborhood\n",
    "sf_listings_avail = sf_listings.groupby(['neighbourhood']).mean()['availability_365'].sort_values()\n",
    "sf_listings_avail"
   ]
  },
  {
   "cell_type": "markdown",
   "metadata": {},
   "source": [
    "### Price variability with neighbourhood"
   ]
  },
  {
   "cell_type": "code",
   "execution_count": 27,
   "metadata": {},
   "outputs": [
    {
     "data": {
      "text/plain": [
       "neighbourhood\n",
       "Treasure Island/YBI       97.500000\n",
       "Presidio                 105.000000\n",
       "Excelsior                119.862434\n",
       "Bayview                  121.601770\n",
       "Crocker Amazon           123.510204\n",
       "Ocean View               124.902778\n",
       "Outer Sunset             142.501567\n",
       "Lakeshore                148.067797\n",
       "Visitacion Valley        153.460526\n",
       "Outer Mission            158.466667\n",
       "Outer Richmond           178.579787\n",
       "West of Twin Peaks       179.597222\n",
       "Nob Hill                 185.750000\n",
       "Chinatown                186.100719\n",
       "Downtown/Civic Center    186.797635\n",
       "Bernal Heights           191.250608\n",
       "Diamond Heights          206.823529\n",
       "Parkside                 207.239437\n",
       "Inner Richmond           209.563877\n",
       "Mission                  213.050697\n",
       "Haight Ashbury           214.588378\n",
       "Noe Valley               230.919643\n",
       "Western Addition         233.138095\n",
       "Financial District       233.365854\n",
       "North Beach              236.700000\n",
       "Glen Park                241.272727\n",
       "Potrero Hill             245.856000\n",
       "South of Market          252.390146\n",
       "Castro/Upper Market      254.016985\n",
       "Twin Peaks               256.289855\n",
       "Seacliff                 275.954545\n",
       "Inner Sunset             308.228070\n",
       "Marina                   313.443299\n",
       "Golden Gate Park         316.800000\n",
       "Pacific Heights          321.434783\n",
       "Russian Hill             323.857143\n",
       "Presidio Heights         439.652174\n",
       "Name: price, dtype: float64"
      ]
     },
     "execution_count": 27,
     "metadata": {},
     "output_type": "execute_result"
    }
   ],
   "source": [
    "#average price per neighborhood\n",
    "sf_listings.groupby(['neighbourhood']).mean()['price'].sort_values()"
   ]
  },
  {
   "cell_type": "code",
   "execution_count": 32,
   "metadata": {},
   "outputs": [
    {
     "name": "stdout",
     "output_type": "stream",
     "text": [
      "                        diff_mean\n",
      "neighbourhood                    \n",
      "Treasure Island/YBI   -117.912516\n",
      "Presidio              -110.412516\n",
      "Excelsior              -95.550082\n",
      "Bayview                -93.810746\n",
      "Crocker Amazon         -91.902312\n",
      "Ocean View             -90.509738\n",
      "Outer Sunset           -72.910949\n",
      "Lakeshore              -67.344720\n",
      "Visitacion Valley      -61.951990\n",
      "Outer Mission          -56.945849\n",
      "Outer Richmond         -36.832729\n",
      "West of Twin Peaks     -35.815294\n",
      "Nob Hill               -29.662516\n",
      "Chinatown              -29.311797\n",
      "Downtown/Civic Center  -28.614881\n",
      "Bernal Heights         -24.161908\n",
      "Diamond Heights         -8.588987\n",
      "Parkside                -8.173079\n",
      "Inner Richmond          -5.848639\n",
      "Mission                 -2.361819\n",
      "Haight Ashbury          -0.824138\n",
      "Noe Valley              15.507127\n",
      "Western Addition        17.725579\n",
      "Financial District      17.953338\n",
      "North Beach             21.287484\n",
      "Glen Park               25.860211\n",
      "Potrero Hill            30.443484\n",
      "South of Market         36.977630\n",
      "Castro/Upper Market     38.604469\n",
      "Twin Peaks              40.877339\n",
      "Seacliff                60.542029\n",
      "Inner Sunset            92.815554\n",
      "Marina                  98.030783\n",
      "Golden Gate Park       101.387484\n",
      "Pacific Heights        106.022266\n",
      "Russian Hill           108.444627\n",
      "Presidio Heights       224.239658\n"
     ]
    },
    {
     "data": {
      "image/png": "[encoded data removed]",
      "text/plain": [
       "<Figure size 2304x720 with 1 Axes>"
      ]
     },
     "metadata": {
      "needs_background": "light"
     },
     "output_type": "display_data"
    }
   ],
   "source": [
    "# difference between the price mean per month and the price mean\n",
    "sf_listings['diff_mean'] = sf_listings['price'] - sf_listings['price'].mean()\n",
    "sf_listings_sorted = sf_listings.groupby(['neighbourhood']).mean()['diff_mean'].sort_values()\n",
    "c = sf_listings_sorted.to_frame()\n",
    "print(c)\n",
    "# Plot the price difference\n",
    "fig2 = plt.figure(figsize=(32,10))\n",
    "ax = fig2.add_subplot(1, 1, 1, aspect='auto')\n",
    "sns.barplot(x = sf_listings['neighbourhood'], y = sf_listings['diff_mean'],order = c.index)\n",
    "# Set axis label properties\n",
    "ax.set_xlabel('Neighbourhood', weight='normal', size=20)\n",
    "ax.set_ylabel('Price difference [$]', weight='normal', size=20)\n",
    "plt.title('Price difference from average wrt neighbourhood', fontsize=30)\n",
    "# Set tick label properties\n",
    "ax.tick_params('x', labelsize=15, rotation=90)\n",
    "ax.tick_params('y', labelsize=15)\n",
    "plt.show()"
   ]
  },
  {
   "cell_type": "markdown",
   "metadata": {},
   "source": [
    "#### Result : Mission,Downtown and South of Market have most listings whereas Russian Hill, Pacific Heights, Golden Gate Park have highest number of days available (Note: Presidio Heights has only one listing so availability is not an accurate metric) and are the most expensive.\n"
   ]
  }
 ],
 "metadata": {
  "kernelspec": {
   "display_name": "Python 3",
   "language": "python",
   "name": "python3"
  },
  "language_info": {
   "codemirror_mode": {
    "name": "ipython",
    "version": 3
   },
   "file_extension": ".py",
   "mimetype": "text/x-python",
   "name": "python",
   "nbconvert_exporter": "python",
   "pygments_lexer": "ipython3",
   "version": "3.7.3"
  }
 },
 "nbformat": 4,
 "nbformat_minor": 2
}
